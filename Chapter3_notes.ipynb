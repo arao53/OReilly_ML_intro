{
  "nbformat": 4,
  "nbformat_minor": 0,
  "metadata": {
    "colab": {
      "name": "Chapter3_notes.ipynb",
      "provenance": [],
      "authorship_tag": "ABX9TyPAyLW0NoGI8IZzhNU1LLZ8"
    },
    "kernelspec": {
      "name": "python3",
      "display_name": "Python 3"
    }
  },
  "cells": [
    {
      "cell_type": "markdown",
      "metadata": {
        "id": "oD-loiBODKk1",
        "colab_type": "text"
      },
      "source": [
        "# Chapter 3: Classification"
      ]
    },
    {
      "cell_type": "code",
      "metadata": {
        "id": "OE1mw17VEJ9R",
        "colab_type": "code",
        "colab": {}
      },
      "source": [
        "import matplotlib as mpl\n",
        "import matplotlib.pyplot as plt\n",
        "import numpy as np\n",
        "import sklearn\n"
      ],
      "execution_count": 0,
      "outputs": []
    },
    {
      "cell_type": "markdown",
      "metadata": {
        "id": "3wZCZqlrDRW9",
        "colab_type": "text"
      },
      "source": [
        "MNIST is a very famous data set\n",
        "*   70,000 compiled images of handwritten digits from different sets of people\n",
        "*   Analog of \"hello world\" to ML\n",
        "Scikit Learn has built-in MNIST functions\n",
        "*   fetch_openML('mnist_784',version=1) opens the database containing 784 features (pixels)."
      ]
    },
    {
      "cell_type": "code",
      "metadata": {
        "id": "mB-nzVFqDIqx",
        "colab_type": "code",
        "colab": {
          "base_uri": "https://localhost:8080/",
          "height": 34
        },
        "outputId": "8584b4d5-fd7b-4aa4-8cd2-90c4d9501568"
      },
      "source": [
        "from sklearn.datasets import fetch_openml\n",
        "mnist = fetch_openml('mnist_784',version = 1)\n",
        "mnist.keys()"
      ],
      "execution_count": 2,
      "outputs": [
        {
          "output_type": "execute_result",
          "data": {
            "text/plain": [
              "dict_keys(['data', 'target', 'frame', 'feature_names', 'target_names', 'DESCR', 'details', 'categories', 'url'])"
            ]
          },
          "metadata": {
            "tags": []
          },
          "execution_count": 2
        }
      ]
    },
    {
      "cell_type": "markdown",
      "metadata": {
        "id": "iAc8ssOVFN94",
        "colab_type": "text"
      },
      "source": [
        "Some important keys:\n",
        "*   'DESCR': a description of the dataset (author info, license, etc.)\n",
        "*   'data': the unlabelled data 1 row per instance, 1 column per feature\n",
        "*   'target': the labels associated with 'data' "
      ]
    },
    {
      "cell_type": "code",
      "metadata": {
        "id": "qll92HVOFez9",
        "colab_type": "code",
        "colab": {
          "base_uri": "https://localhost:8080/",
          "height": 54
        },
        "outputId": "ce1f88ba-f34b-4a92-85c4-3e3381b9a559"
      },
      "source": [
        "mnist.DESCR\n",
        "#mnist.data.shape\n",
        "#mnist.target.shape"
      ],
      "execution_count": 3,
      "outputs": [
        {
          "output_type": "execute_result",
          "data": {
            "text/plain": [
              "\"**Author**: Yann LeCun, Corinna Cortes, Christopher J.C. Burges  \\n**Source**: [MNIST Website](http://yann.lecun.com/exdb/mnist/) - Date unknown  \\n**Please cite**:  \\n\\nThe MNIST database of handwritten digits with 784 features, raw data available at: http://yann.lecun.com/exdb/mnist/. It can be split in a training set of the first 60,000 examples, and a test set of 10,000 examples  \\n\\nIt is a subset of a larger set available from NIST. The digits have been size-normalized and centered in a fixed-size image. It is a good database for people who want to try learning techniques and pattern recognition methods on real-world data while spending minimal efforts on preprocessing and formatting. The original black and white (bilevel) images from NIST were size normalized to fit in a 20x20 pixel box while preserving their aspect ratio. The resulting images contain grey levels as a result of the anti-aliasing technique used by the normalization algorithm. the images were centered in a 28x28 image by computing the center of mass of the pixels, and translating the image so as to position this point at the center of the 28x28 field.  \\n\\nWith some classification methods (particularly template-based methods, such as SVM and K-nearest neighbors), the error rate improves when the digits are centered by bounding box rather than center of mass. If you do this kind of pre-processing, you should report it in your publications. The MNIST database was constructed from NIST's NIST originally designated SD-3 as their training set and SD-1 as their test set. However, SD-3 is much cleaner and easier to recognize than SD-1. The reason for this can be found on the fact that SD-3 was collected among Census Bureau employees, while SD-1 was collected among high-school students. Drawing sensible conclusions from learning experiments requires that the result be independent of the choice of training set and test among the complete set of samples. Therefore it was necessary to build a new database by mixing NIST's datasets.  \\n\\nThe MNIST training set is composed of 30,000 patterns from SD-3 and 30,000 patterns from SD-1. Our test set was composed of 5,000 patterns from SD-3 and 5,000 patterns from SD-1. The 60,000 pattern training set contained examples from approximately 250 writers. We made sure that the sets of writers of the training set and test set were disjoint. SD-1 contains 58,527 digit images written by 500 different writers. In contrast to SD-3, where blocks of data from each writer appeared in sequence, the data in SD-1 is scrambled. Writer identities for SD-1 is available and we used this information to unscramble the writers. We then split SD-1 in two: characters written by the first 250 writers went into our new training set. The remaining 250 writers were placed in our test set. Thus we had two sets with nearly 30,000 examples each. The new training set was completed with enough examples from SD-3, starting at pattern # 0, to make a full set of 60,000 training patterns. Similarly, the new test set was completed with SD-3 examples starting at pattern # 35,000 to make a full set with 60,000 test patterns. Only a subset of 10,000 test images (5,000 from SD-1 and 5,000 from SD-3) is available on this site. The full 60,000 sample training set is available.\\n\\nDownloaded from openml.org.\""
            ]
          },
          "metadata": {
            "tags": []
          },
          "execution_count": 3
        }
      ]
    },
    {
      "cell_type": "markdown",
      "metadata": {
        "id": "bF5HAyrZGQCm",
        "colab_type": "text"
      },
      "source": [
        "The keys are used to access the MNIST data "
      ]
    },
    {
      "cell_type": "code",
      "metadata": {
        "id": "sse2k6QaGZ49",
        "colab_type": "code",
        "colab": {
          "base_uri": "https://localhost:8080/",
          "height": 282
        },
        "outputId": "04917a1b-51eb-4378-c493-369ca974d19e"
      },
      "source": [
        "X,y = mnist['data'], mnist['target']\n",
        "i = 0\n",
        "y = y.astype(np.uint8)\n",
        "somedigit = X[i]\n",
        "somedigit_image = somedigit.reshape(28,28)\n",
        "plt.imshow(somedigit_image, cmap=\"binary\")\n",
        "#remember to cast the label to a numeric value instead of a string\n",
        "y[i]"
      ],
      "execution_count": 4,
      "outputs": [
        {
          "output_type": "execute_result",
          "data": {
            "text/plain": [
              "5"
            ]
          },
          "metadata": {
            "tags": []
          },
          "execution_count": 4
        },
        {
          "output_type": "display_data",
          "data": {
            "image/png": "[encoded data removed]",
            "text/plain": [
              "<Figure size 432x288 with 1 Axes>"
            ]
          },
          "metadata": {
            "tags": [],
            "needs_background": "light"
          }
        }
      ]
    },
    {
      "cell_type": "markdown",
      "metadata": {
        "id": "ugG5NWDbH94w",
        "colab_type": "text"
      },
      "source": [
        "MNIST is already split into testing and training data and shuffled to avoid errors associated with the order of training instances\n",
        "1st 60,000 is training \n",
        "last 10,000 is testing"
      ]
    },
    {
      "cell_type": "code",
      "metadata": {
        "id": "pEGp-OZxItQ2",
        "colab_type": "code",
        "colab": {}
      },
      "source": [
        "X_train, X_test, y_train, y_test = X[:60000], X[60000:], y[:60000], y[60000:]"
      ],
      "execution_count": 0,
      "outputs": []
    },
    {
      "cell_type": "markdown",
      "metadata": {
        "id": "0cpp-scHJSTe",
        "colab_type": "text"
      },
      "source": [
        "**Binary Classifiers**\n",
        "\n",
        "Can we predict if an image is a 5 or not?\n",
        "\n",
        "We can use the SGD classifier to train a model sgd_class to recognize only the 5's. Then, using the data set and the model we can predict if the unlabelled data is a 5 or not."
      ]
    },
    {
      "cell_type": "code",
      "metadata": {
        "id": "NkGXablCJa6D",
        "colab_type": "code",
        "colab": {
          "base_uri": "https://localhost:8080/",
          "height": 34
        },
        "outputId": "44e42add-67a8-496e-8177-a4a751c9bea5"
      },
      "source": [
        "y_train_5 = (y_train==5)\n",
        "y_test_5 = (y_test==5)\n",
        "\n",
        "from sklearn.linear_model import SGDClassifier\n",
        "#import the stochastic classifer. the random_state parameter allows for reproducability (?)\n",
        "sgd_class = SGDClassifier(random_state =42)\n",
        "sgd_class.fit(X_train, y_train_5)\n",
        "\n",
        "sgd_class.predict([somedigit])"
      ],
      "execution_count": 6,
      "outputs": [
        {
          "output_type": "execute_result",
          "data": {
            "text/plain": [
              "array([ True])"
            ]
          },
          "metadata": {
            "tags": []
          },
          "execution_count": 6
        }
      ]
    },
    {
      "cell_type": "markdown",
      "metadata": {
        "id": "8-hnzIy6K1dH",
        "colab_type": "text"
      },
      "source": [
        "Now we can implement cross-validation on our \"5-detector\"\n",
        "\n",
        "We can use the cross_val_score function in the basic sklearn library to work with 3 folds (or more?)"
      ]
    },
    {
      "cell_type": "code",
      "metadata": {
        "id": "W28u8bErK-C8",
        "colab_type": "code",
        "colab": {
          "base_uri": "https://localhost:8080/",
          "height": 34
        },
        "outputId": "be87befc-92bb-4900-f254-5890850c989f"
      },
      "source": [
        "from sklearn.model_selection import cross_val_score\n",
        "cross_val_score(sgd_class, X_train, y_train_5, cv=3, scoring=\"accuracy\")"
      ],
      "execution_count": 7,
      "outputs": [
        {
          "output_type": "execute_result",
          "data": {
            "text/plain": [
              "array([0.95035, 0.96035, 0.9604 ])"
            ]
          },
          "metadata": {
            "tags": []
          },
          "execution_count": 7
        }
      ]
    },
    {
      "cell_type": "markdown",
      "metadata": {
        "id": "PgFEFtazMM__",
        "colab_type": "text"
      },
      "source": [
        "Another way to test the ability of a model is to use a \"confusion matrix\". Accuracy doesn't always describe how well a model performs, especially when the dataset is highly skewed and an unintelligent option could do somewhat well.\n",
        "\n",
        "It shows the amount of times feature x was mistaken as feature y when predicting based on a given model. \n",
        "\n",
        "\n",
        "\n",
        "1.   Use cross_val_predict to perform k-folds and predict on the unseen set for each fold\n",
        "2.   Compare the prediction with the training to show uncover the confusion\n",
        "\n"
      ]
    },
    {
      "cell_type": "code",
      "metadata": {
        "id": "XeiDUtLuMMSP",
        "colab_type": "code",
        "colab": {}
      },
      "source": [
        "from sklearn.model_selection import cross_val_predict\n",
        "from sklearn.metrics import confusion_matrix\n",
        "\n",
        "y_train_pred_5 = cross_val_predict(sgd_class, X_train, y_train_5, cv = 3)\n",
        "confusion_m = confusion_matrix(y_train_5, y_train_pred_5)"
      ],
      "execution_count": 0,
      "outputs": []
    },
    {
      "cell_type": "markdown",
      "metadata": {
        "id": "0ScKYOTyNw5w",
        "colab_type": "text"
      },
      "source": [
        "Row 1: non-5 images\n",
        "> [0,0] shows the number that were correctly identified as non-5\n",
        "\n",
        "> [0,1] false positives - # that were incorrectly identified as 5's\n",
        "\n",
        "Row 2: 5's (positive class)\n",
        "> [1,0] false negatives - # that were incorrectly identified as non-5's\n",
        "\n",
        "> [1,1] shows the number that were correctly identified as 5's\n",
        "\n",
        "TP: True positive [1,1]\n",
        "FP: False positive [0,1]\n",
        "FN: False negative [1,0]\n",
        "\n",
        "Precision = TP/(TP + FP)\n",
        "\n",
        "Recall = TP/(TP + FN)\n",
        "\n",
        "f1 score is the \"harmonic mean\" and is used as a classifier score that accounts for both precision and recall and **favors a balance**. Unfortunately, there is a tradeoff between the two and maximizing one reduces the other."
      ]
    },
    {
      "cell_type": "code",
      "metadata": {
        "id": "Xr288NsCO9TA",
        "colab_type": "code",
        "colab": {
          "base_uri": "https://localhost:8080/",
          "height": 51
        },
        "outputId": "9c0c6f18-b329-4819-8461-0b343bd2e398"
      },
      "source": [
        "TP = confusion_m[1,1]\n",
        "FP = confusion_m[0,1]\n",
        "FN = confusion_m[1,0]\n",
        "\n",
        "precision = TP/(TP + FP)\n",
        "recall = TP/(TP + FN)\n",
        "\n",
        "print(precision, recall)\n",
        "\n",
        "from sklearn.metrics import precision_score, recall_score, f1_score\n",
        "precision_sk = precision_score(y_train_5,y_train_pred_5)\n",
        "recall_sk = recall_score(y_train_5,y_train_pred_5)\n",
        "f1_sk = f1_score(y_train_5,y_train_pred_5)\n",
        "\n",
        "print(precision_sk, recall_sk, f1_sk)"
      ],
      "execution_count": 50,
      "outputs": [
        {
          "output_type": "stream",
          "text": [
            "0.8370879772350012 0.6511713705958311\n",
            "0.8370879772350012 0.6511713705958311 0.7325171197343846\n"
          ],
          "name": "stdout"
        }
      ]
    },
    {
      "cell_type": "markdown",
      "metadata": {
        "id": "1gaihreBQPWu",
        "colab_type": "text"
      },
      "source": [
        "**The Precision-Recall Trade-off**\n",
        "\n",
        "The SGDClassifier uses a decision function to assign a feature to the positive or negative class, based on a threshold. \n",
        "\n",
        "While we can't change the threshold directly with SKLearn, the decision function can be called directly which will output the decision score (this can be compared to the threshold manually)\n",
        "\n",
        "Increasing the threshold gives more false positives, increasing recall but decreasing precision. \n",
        "\n",
        "Decreasing the threshold gives more false negatives, increasing precision (in general) but decreasing recall. \n",
        "\n",
        "**ROC Curve**\n",
        "ROC - receiver operating characteristic. \n",
        "*   plots the true positive rate against the false positive rate\n",
        "*   Commonly used with binary classifiers\n",
        "*   Dotted line represents a random classifier, so distance away from ROC-curve is a positive indicator of classifier performance"
      ]
    },
    {
      "cell_type": "code",
      "metadata": {
        "id": "MqX03OquUcIb",
        "colab_type": "code",
        "colab": {
          "base_uri": "https://localhost:8080/",
          "height": 463
        },
        "outputId": "ca7a0b79-9cb9-4cab-c61e-c92f7dc809a5"
      },
      "source": [
        "from sklearn.metrics import roc_curve\n",
        "y_scores = cross_val_predict(sgd_class, X_train, y_train_5, cv=3, method = \"decision_function\")\n",
        "fpr, tpr, thresholds = roc_curve(y_train_5, y_scores)\n",
        "\n",
        "plt.plot(fpr,tpr)\n",
        "plt.plot([0,1],[0,1],'k--') # unity line ROC-curve\n",
        "mpl.axes.Axes.set_ylabel(self,'True Positive Rate (recall)')\n",
        "mpl.axes.Axes.set_xlabel(self,'False Positive Rate')"
      ],
      "execution_count": 9,
      "outputs": [
        {
          "output_type": "error",
          "ename": "NameError",
          "evalue": "ignored",
          "traceback": [
            "\u001b[0;31m---------------------------------------------------------------------------\u001b[0m",
            "\u001b[0;31mNameError\u001b[0m                                 Traceback (most recent call last)",
            "\u001b[0;32m<ipython-input-9-7667df27cf18>\u001b[0m in \u001b[0;36m<module>\u001b[0;34m()\u001b[0m\n\u001b[1;32m      5\u001b[0m \u001b[0mplt\u001b[0m\u001b[0;34m.\u001b[0m\u001b[0mplot\u001b[0m\u001b[0;34m(\u001b[0m\u001b[0mfpr\u001b[0m\u001b[0;34m,\u001b[0m\u001b[0mtpr\u001b[0m\u001b[0;34m)\u001b[0m\u001b[0;34m\u001b[0m\u001b[0;34m\u001b[0m\u001b[0m\n\u001b[1;32m      6\u001b[0m \u001b[0mplt\u001b[0m\u001b[0;34m.\u001b[0m\u001b[0mplot\u001b[0m\u001b[0;34m(\u001b[0m\u001b[0;34m[\u001b[0m\u001b[0;36m0\u001b[0m\u001b[0;34m,\u001b[0m\u001b[0;36m1\u001b[0m\u001b[0;34m]\u001b[0m\u001b[0;34m,\u001b[0m\u001b[0;34m[\u001b[0m\u001b[0;36m0\u001b[0m\u001b[0;34m,\u001b[0m\u001b[0;36m1\u001b[0m\u001b[0;34m]\u001b[0m\u001b[0;34m,\u001b[0m\u001b[0;34m'k--'\u001b[0m\u001b[0;34m)\u001b[0m \u001b[0;31m# unity line ROC-curve\u001b[0m\u001b[0;34m\u001b[0m\u001b[0;34m\u001b[0m\u001b[0m\n\u001b[0;32m----> 7\u001b[0;31m \u001b[0mmpl\u001b[0m\u001b[0;34m.\u001b[0m\u001b[0maxes\u001b[0m\u001b[0;34m.\u001b[0m\u001b[0mAxes\u001b[0m\u001b[0;34m.\u001b[0m\u001b[0mset_ylabel\u001b[0m\u001b[0;34m(\u001b[0m\u001b[0mself\u001b[0m\u001b[0;34m,\u001b[0m\u001b[0;34m'True Positive Rate (recall)'\u001b[0m\u001b[0;34m)\u001b[0m\u001b[0;34m\u001b[0m\u001b[0;34m\u001b[0m\u001b[0m\n\u001b[0m\u001b[1;32m      8\u001b[0m \u001b[0mmpl\u001b[0m\u001b[0;34m.\u001b[0m\u001b[0maxes\u001b[0m\u001b[0;34m.\u001b[0m\u001b[0mAxes\u001b[0m\u001b[0;34m.\u001b[0m\u001b[0mset_xlabel\u001b[0m\u001b[0;34m(\u001b[0m\u001b[0mself\u001b[0m\u001b[0;34m,\u001b[0m\u001b[0;34m'False Positive Rate'\u001b[0m\u001b[0;34m)\u001b[0m\u001b[0;34m\u001b[0m\u001b[0;34m\u001b[0m\u001b[0m\n",
            "\u001b[0;31mNameError\u001b[0m: name 'self' is not defined"
          ]
        },
        {
          "output_type": "display_data",
          "data": {
            "image/png": "[encoded data removed]",
            "text/plain": [
              "<Figure size 432x288 with 1 Axes>"
            ]
          },
          "metadata": {
            "tags": [],
            "needs_background": "light"
          }
        }
      ]
    },
    {
      "cell_type": "markdown",
      "metadata": {
        "id": "qSfnk0SaXKfz",
        "colab_type": "text"
      },
      "source": [
        "Use the Precision-Recall curve when the positive class is rare among the dataset (you care about false positives more). Otherwise, use the ROC=curve\n"
      ]
    },
    {
      "cell_type": "markdown",
      "metadata": {
        "id": "Yjj3hzF_YdCE",
        "colab_type": "text"
      },
      "source": [
        "**Multi-class Classification**\n",
        "\n",
        "SGD classifiers, Random Forest, naieve Bayes Classifiers can handle multiple classes \n",
        "\n",
        "Logistic regression and Support Vector Machines (SVMs) are binary\n",
        "\n",
        "To use binary classification algorithms for multiple classes there are 2 strats:\n",
        "\n",
        "1. One-vs-Rest (OvR) Train 1 classifiers to recognize each of n classes from the rest of the set. For each instance, choose the class with the highest score\n",
        "2. One-vs-One (OvO) Train a binary classifier for each pair of classes then run the dataset on all classifiers and see which class \"wins\" the most \"duels\"\n",
        "\n",
        "OvR is preferred in most cases but OvO can be used with large datasets to reduce the amount of training time required. "
      ]
    },
    {
      "cell_type": "code",
      "metadata": {
        "id": "ZJuv7GaAcS6O",
        "colab_type": "code",
        "colab": {
          "base_uri": "https://localhost:8080/",
          "height": 51
        },
        "outputId": "7af10dca-90c0-481d-b3d7-ae09c6644f0a"
      },
      "source": [
        "from sklearn.svm import SVC\n",
        "svm_class = SVC()\n",
        "svm_class.fit(X_train, y_train) # now we use the whole number set, not just the 5s\n",
        "svm_class.predict([somedigit])  #what the algorithm thinks it is \n",
        "svm_class.decision_function([somedigit]) #the scores of other things it could be"
      ],
      "execution_count": 10,
      "outputs": [
        {
          "output_type": "execute_result",
          "data": {
            "text/plain": [
              "array([[ 1.72501977,  2.72809088,  7.2510018 ,  8.3076379 , -0.31087254,\n",
              "         9.3132482 ,  1.70975103,  2.76765202,  6.23049537,  4.84771048]])"
            ]
          },
          "metadata": {
            "tags": []
          },
          "execution_count": 10
        }
      ]
    },
    {
      "cell_type": "markdown",
      "metadata": {
        "id": "pa0-3ol1dGs5",
        "colab_type": "text"
      },
      "source": [
        "We can also force the method that SVC() uses!"
      ]
    },
    {
      "cell_type": "code",
      "metadata": {
        "id": "_REo8w1YdJvY",
        "colab_type": "code",
        "colab": {}
      },
      "source": [
        "from sklearn.multiclass import OneVsRestClassifier\n",
        "OvR_class = OneVsRestClassifier(SVC())\n",
        "OvR_class.fit(X_train, y_train)"
      ],
      "execution_count": 0,
      "outputs": []
    },
    {
      "cell_type": "markdown",
      "metadata": {
        "id": "WuEZI4z_enTm",
        "colab_type": "text"
      },
      "source": [
        "**Error Analysis**\n",
        "\n",
        "To find the error in the prediction, cross-validate and compute the confusion matrix. The confusion matrix can be plotted in 2D. Also, we can scale the values before doing this to increase accuracy even further! "
      ]
    },
    {
      "cell_type": "code",
      "metadata": {
        "id": "E3WYrkvle_7i",
        "colab_type": "code",
        "colab": {}
      },
      "source": [
        "from sklearn.preprocessing import StandardScaler\n",
        "scale = StandardScaler()\n",
        "X_train_s = scale.fit_transform(X_train.astype(np.float64))\n",
        "\n",
        "y_train_predict = cross_val_predict(svm_class,X_train_s,y_train,cv=3)\n",
        "conf_mx = confusion_matrix(y_train,y_train_predict)\n",
        "\n",
        "plot.matshow(conf_mx, cmap = plt.cm.gray)"
      ],
      "execution_count": 0,
      "outputs": []
    },
    {
      "cell_type": "markdown",
      "metadata": {
        "id": "2Da0GCxogGE_",
        "colab_type": "text"
      },
      "source": [
        "Highlighting the main diagonal shows that the model does pretty well at showing the real values. \n",
        "\n",
        "**Row**: real values \n",
        "\n",
        "**Col**: predicted value\n",
        "\n",
        "The confusion matrix shows the absolute error rate, so we can adjust this by the number of occurences of each class to normalize. Also, now that we know the main diagonal is good, we can zero those values so that the colors stand our more. "
      ]
    },
    {
      "cell_type": "code",
      "metadata": {
        "id": "4ZrFEGwGgFNj",
        "colab_type": "code",
        "colab": {}
      },
      "source": [
        "row_sum = conf_mx.sum(axis=1, keepdims=True)\n",
        "norm_conf_mx = conf_mx/row_sum\n",
        "np.fll_diagonal(norm_conf_mx,0)\n",
        "plot.matshow(norm_conf_mx, cmap = plt.cm.gray)"
      ],
      "execution_count": 0,
      "outputs": []
    },
    {
      "cell_type": "markdown",
      "metadata": {
        "id": "D_NRG5iwhhZC",
        "colab_type": "text"
      },
      "source": [
        "**Multilabel Classification**\n",
        "In the case where a single instance could contain multiple classes (google photos) we need to output multiple binary tags. \n",
        "\n",
        "For example, what if we trained a model to recognize 7's and odd numbers (classes overlap)."
      ]
    },
    {
      "cell_type": "code",
      "metadata": {
        "id": "-9gH6IjuiixU",
        "colab_type": "code",
        "colab": {}
      },
      "source": [
        "from sklearn.neighbors import KNeighborsClassifier\n",
        "y_train7 = (y_train==7)\n",
        "y_trainodd = (y%2 == 1)\n",
        "\n",
        "y_multilabel = np.c_[y_train7, y_trainodd]\n",
        "knn_class = KNeighborsClassifier()\n",
        "knn_class.fit(X_train,y_multilabel)\n",
        "knn_class.predict([somedigit])  #how does the model work with our classic somedigit=5\n"
      ],
      "execution_count": 0,
      "outputs": []
    }
  ]
}