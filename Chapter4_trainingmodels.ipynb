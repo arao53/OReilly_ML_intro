{
  "nbformat": 4,
  "nbformat_minor": 0,
  "metadata": {
    "colab": {
      "name": "Chapter4_trainingmodels.ipynb",
      "provenance": [],
      "authorship_tag": "ABX9TyPRqF1GdU/NqhbPXdy/+u+u"
    },
    "kernelspec": {
      "name": "python3",
      "display_name": "Python 3"
    }
  },
  "cells": [
    {
      "cell_type": "markdown",
      "metadata": {
        "id": "OdPiy55CkQ42",
        "colab_type": "text"
      },
      "source": [
        "# Chapter 4: Training Models"
      ]
    },
    {
      "cell_type": "markdown",
      "metadata": {
        "id": "QUEXkeoYkXny",
        "colab_type": "text"
      },
      "source": [
        "What does \"training\" mean?\n",
        "- closed form vs GD\n",
        "- error analysis/debugging models\n",
        "- neural networks"
      ]
    },
    {
      "cell_type": "markdown",
      "metadata": {
        "id": "CnIO1b99kvC9",
        "colab_type": "text"
      },
      "source": [
        "**Closed form**: directly computes the model parameters for the best fit equation (minimizing the cost function)\n",
        "\n",
        "**Gradient Descent (GD)**: iteratively tweaks model parameters to minimize the cost function, eventually converging on the best fit model parameters. \n",
        "\n",
        "**Linear regression model prediction:**\n",
        "\n",
        "$\\hat{y} = \\theta_0 + \\sum_1^n \\theta_i x_i $\n",
        "\n",
        "Where: \n",
        "  \n",
        "- $\\hat y$ is the predicted value \n",
        "- n is the number of features\n",
        "- $x_i$ is the $i^{th}$ feature\n",
        "- $\\theta$ is the associated model parameter, where $\\theta_0$ is the bias\n",
        "\n",
        "If $\\theta$ and $x$ are column vectors then the prediction is: $y = \\theta^T \\cdot{} x$\n",
        "\n",
        "The cost function is essentially the error associated with the model parameters $\\theta$\n",
        "\n",
        "$MSE(\\theta) = \\frac{1}{m}\\sum_1^n (\\theta^T\\cdot x^{(i)} - y^{(i)})^2$\n",
        "\n",
        "**Closed-form solution**: analytical form of ideal theta parameters is found by rearranging the vector equation for the linear regression model prediction. \n",
        "\n",
        "$\\hat \\theta  = (X^T X)^{-1} X^T y$"
      ]
    },
    {
      "cell_type": "code",
      "metadata": {
        "id": "W7Edf5UjlH0H",
        "colab_type": "code",
        "outputId": "1b62e141-642b-4eb8-8a4b-fd0a68aab46d",
        "colab": {
          "base_uri": "https://localhost:8080/",
          "height": 316
        }
      },
      "source": [
        "import numpy as np\n",
        "import matplotlib.pyplot as plt\n",
        "import matplotlib as mpl\n",
        "\n",
        "#Create a line y = 3x + 4 but with some noise\n",
        "X = 2*np.random.rand(100,1)\n",
        "y = 4 + 3*X + np.random.randn(100,1)\n",
        "y1 = 4+3*X\n",
        "\n",
        "fig, ax = plt.subplots()\n",
        "ax.plot(X, y,'o')\n",
        "ax.plot(X,y1,'r-')\n",
        "ax.grid()\n",
        "\n",
        "#Use the normal equation to compute ideal fit parameters \n",
        "X_b = np.c_[np.ones((100,1)),X]\n",
        "theta_best = np.linalg.inv(X_b.T.dot(X_b)).dot(X_b.T).dot(y)\n",
        "print(theta_best)\n",
        "\n",
        "y2 = theta_best[0] + theta_best[1]*X\n",
        "ax.plot(X,y2,'b-')"
      ],
      "execution_count": 0,
      "outputs": [
        {
          "output_type": "stream",
          "text": [
            "[[4.1419667 ]\n",
            " [2.92824651]]\n"
          ],
          "name": "stdout"
        },
        {
          "output_type": "execute_result",
          "data": {
            "text/plain": [
              "[<matplotlib.lines.Line2D at 0x7fe57c8ae9b0>]"
            ]
          },
          "metadata": {
            "tags": []
          },
          "execution_count": 12
        },
        {
          "output_type": "display_data",
          "data": {
            "image/png": "[encoded data removed]",
            "text/plain": [
              "<Figure size 432x288 with 1 Axes>"
            ]
          },
          "metadata": {
            "tags": [],
            "needs_background": "light"
          }
        }
      ]
    },
    {
      "cell_type": "markdown",
      "metadata": {
        "id": "1fT9qYbnrN_R",
        "colab_type": "text"
      },
      "source": [
        "We can also do linear regression directly with sklearn!\n",
        "\n",
        "sklearn uses the pseudoinverse $X^+$ which is always defined even when $X$ is noninvertible"
      ]
    },
    {
      "cell_type": "code",
      "metadata": {
        "id": "_cOUQz07kEny",
        "colab_type": "code",
        "outputId": "2c4fc6ad-d135-483d-e34a-1d50afd01a29",
        "colab": {
          "base_uri": "https://localhost:8080/",
          "height": 299
        }
      },
      "source": [
        "from sklearn.linear_model import LinearRegression\n",
        "lin_reg = LinearRegression()\n",
        "lin_reg.fit(X,y)\n",
        "print(lin_reg.intercept_, lin_reg.coef_)\n",
        "y3 = lin_reg.predict(X)\n",
        "fig, ax = plt.subplots()\n",
        "ax.plot(X,y,'o')\n",
        "ax.plot(X,y3,'-')"
      ],
      "execution_count": 0,
      "outputs": [
        {
          "output_type": "stream",
          "text": [
            "[4.1419667] [[2.92824651]]\n"
          ],
          "name": "stdout"
        },
        {
          "output_type": "execute_result",
          "data": {
            "text/plain": [
              "[<matplotlib.lines.Line2D at 0x7fe56f40eeb8>]"
            ]
          },
          "metadata": {
            "tags": []
          },
          "execution_count": 17
        },
        {
          "output_type": "display_data",
          "data": {
            "image/png": "[encoded data removed]",
            "text/plain": [
              "<Figure size 432x288 with 1 Axes>"
            ]
          },
          "metadata": {
            "tags": [],
            "needs_background": "light"
          }
        }
      ]
    },
    {
      "cell_type": "markdown",
      "metadata": {
        "id": "mPr9XpoStYRd",
        "colab_type": "text"
      },
      "source": [
        "**Computational Complexity** is a signficant issue when using the normal equation approach. Taking the inverse of a matrix is computationally expensive. By doubling the number of features, it could cost up to $2^2.4 = 5.3$ to $2^3 = 8$ times as much time to compute. \n",
        "\n",
        "After training the model (however it is done), computing time for predictions scales linearly with the number of features/instances"
      ]
    },
    {
      "cell_type": "markdown",
      "metadata": {
        "id": "GFFEz8UWuN_p",
        "colab_type": "text"
      },
      "source": [
        "**Gradient Descent** is a generic iterative algorithm that computes, compares, then updates until convergence. \n",
        "\n",
        "The hyperparameter used is the learning rate, which determines how much the parameters will update after the comparison step. If the learning rate is too small, it will take forever to converge. If it is too large, the solution might diverge. \n",
        "\n",
        "GD risks convergence to a local minimum instead of a global minimum. However, if we use MSE as the cost function (since it is convex in nature) it has no local minima, just one global minimum. \n",
        "\n",
        "GD is very sensitive to scale, so when using this algorithm it is imperative to preprocess with feature scaling!!\n",
        "\n",
        "**Batch Gradient Descent**:  To implement GD in reality, the algorithm needs to be computed for each value of $\\theta$. This will give us the true gradient as the combination of the partial derivatives of each dimension ($\\theta$). \n",
        "\n",
        "$\\frac{\\partial}{\\partial \\theta}MSE(\\theta) = \\frac{2}{m} \\sum_1^m (\\theta^T x^{(i)} - y^{(i)})x^{(i)}$\n",
        "\n",
        "  or in totality:\n",
        "\n",
        "$\\nabla_{\\theta}MSE(\\theta) = \\frac{2}{m}X^T (X\\theta -y)$"
      ]
    },
    {
      "cell_type": "code",
      "metadata": {
        "id": "mUKGZX06xBLZ",
        "colab_type": "code",
        "outputId": "79411d1c-0904-4799-e9f1-e92e109fa3ea",
        "colab": {
          "base_uri": "https://localhost:8080/",
          "height": 265
        }
      },
      "source": [
        "eta = 0.2 #learning rate\n",
        "n_iterations = 1000 #some arbitrarily large number compared to our dataset \n",
        "m = 100\n",
        "\n",
        "theta = np.random.randn(2,1)\n",
        "fig, ax = plt.subplots()\n",
        "ax.plot(X,y,'o')\n",
        "for iter in range (n_iterations):\n",
        "  grad = 2/m * X_b.T.dot(X_b.dot(theta)-y) #gradient of the error function for n dimensions\n",
        "  theta = theta - eta*grad  #update theta by the slope of the error function\n",
        "  y_4 = theta[0] + X*theta[1]\n",
        "  ax.plot(X,y_4,'-')\n",
        "\n",
        "#play around the eta to find the optimal learning rate that balances computation time (number of lines) and accuracy (final fit)"
      ],
      "execution_count": 0,
      "outputs": [
        {
          "output_type": "display_data",
          "data": {
            "image/png": "[encoded data removed]",
            "text/plain": [
              "<Figure size 432x288 with 1 Axes>"
            ]
          },
          "metadata": {
            "tags": [],
            "needs_background": "light"
          }
        }
      ]
    },
    {
      "cell_type": "markdown",
      "metadata": {
        "id": "qcxx5Pv3zFo6",
        "colab_type": "text"
      },
      "source": [
        "**Stochastic Gradient Descent**: Picks a random instance in the training step to compute the gradient on and steps based on that. It's able to run faster than BGD because SGD doesn't have to run through the whole set each time. However, since it is stochastic the parameters will bounce around never reaching a truely optimal value but just a value that is \"good enough.\"\n",
        "\n",
        "One way to get over this is to make a training schedule that sets a number of trials and gradually reduces the learning rate. \n",
        "\n",
        "SGD allows us to use only 50 trials instead of 1000 to converge on a good answer"
      ]
    },
    {
      "cell_type": "code",
      "metadata": {
        "id": "yZtO808Uz4xf",
        "colab_type": "code",
        "outputId": "4e518cbe-429a-423e-f6d4-ad2e479bed79",
        "colab": {
          "base_uri": "https://localhost:8080/",
          "height": 265
        }
      },
      "source": [
        "n_epochs = 50\n",
        "t0, t1 = 5,50\n",
        "\n",
        "def learning_schedule(t):\n",
        "  return t0/(t + t1)\n",
        "\n",
        "theta = np.random.randn(2,1)  #random init\n",
        "fig, ax = plt.subplots()\n",
        "ax.plot(X,y,'o')\n",
        "\n",
        "for epoch in range(n_epochs):\n",
        "  for i in range(m):\n",
        "    random_i = np.random.randint(0,m)\n",
        "    xi = X_b[random_i:random_i+1]\n",
        "    yi = y[random_i:random_i+1]\n",
        "    grad = 2*xi.T.dot(xi.dot(theta) - yi)\n",
        "    eta = learning_schedule(epoch*m+i)\n",
        "    theta = theta-eta*grad\n",
        "    y_5 = theta[0] + X*theta[1]\n",
        "    ax.plot(X,y_5,'-')\n",
        "\n"
      ],
      "execution_count": 0,
      "outputs": [
        {
          "output_type": "display_data",
          "data": {
            "image/png": "[encoded data removed]",
            "text/plain": [
              "<Figure size 432x288 with 1 Axes>"
            ]
          },
          "metadata": {
            "tags": [],
            "needs_background": "light"
          }
        }
      ]
    },
    {
      "cell_type": "markdown",
      "metadata": {
        "id": "UCWlDp1j2ncS",
        "colab_type": "text"
      },
      "source": [
        "**Mini-Batch Gradient Descent(mBGD)**: is the midpoint between batch and stochastic GD. It uses small sets of the training set, mini-batches, to compute the gradient. mBGD will still walk around the final value but not as much as SGD, and will converge faster than the BGD."
      ]
    },
    {
      "cell_type": "markdown",
      "metadata": {
        "id": "fxKBUOEc3dPQ",
        "colab_type": "text"
      },
      "source": [
        "**Polynomial Regression**\n",
        "\n",
        "When data is more complex than just a line, we can fit it with polynomials!"
      ]
    },
    {
      "cell_type": "code",
      "metadata": {
        "id": "-vSxZB0A3uJh",
        "colab_type": "code",
        "outputId": "aeb646d8-1b68-4eda-b906-b86ef8e24b53",
        "colab": {
          "base_uri": "https://localhost:8080/",
          "height": 284
        }
      },
      "source": [
        "m = 100\n",
        "X_p = 6*np.random.rand(m,1) - 3\n",
        "y_p = 0.5*X_p**2 + X_p + 2 + np.random.randn(m,1)\n",
        "fig, ax = plt.subplots()\n",
        "ax.plot(X_p,y_p,'o')"
      ],
      "execution_count": 0,
      "outputs": [
        {
          "output_type": "execute_result",
          "data": {
            "text/plain": [
              "[<matplotlib.lines.Line2D at 0x7fe56aa91d30>]"
            ]
          },
          "metadata": {
            "tags": []
          },
          "execution_count": 56
        },
        {
          "output_type": "display_data",
          "data": {
            "image/png": "[encoded data removed]",
            "text/plain": [
              "<Figure size 432x288 with 1 Axes>"
            ]
          },
          "metadata": {
            "tags": [],
            "needs_background": "light"
          }
        }
      ]
    },
    {
      "cell_type": "code",
      "metadata": {
        "id": "6HmM53jP4yp7",
        "colab_type": "code",
        "outputId": "988b7b50-03fa-491d-983d-391820a1efc3",
        "colab": {
          "base_uri": "https://localhost:8080/",
          "height": 51
        }
      },
      "source": [
        "from sklearn.preprocessing import PolynomialFeatures\n",
        "poly_f = PolynomialFeatures(degree = 2, include_bias = False) #We can choose the shape of the fit after looking at the data!\n",
        "\n",
        "X_p2 = poly_f.fit_transform(X_p)  #the original feature and the square of the feature\n",
        "print(X_p[0])\n",
        "print(X_p2[0])\n",
        "\n",
        "lin_reg = LinearRegression()\n",
        "lin_reg.fit(X_p2,y_p)\n",
        "bias,theta = lin_reg.intercept_, lin_reg.coef_\n"
      ],
      "execution_count": 0,
      "outputs": [
        {
          "output_type": "stream",
          "text": [
            "[0.6021471]\n",
            "[0.6021471  0.36258113]\n"
          ],
          "name": "stdout"
        }
      ]
    },
    {
      "cell_type": "markdown",
      "metadata": {
        "id": "870WfrdU3tks",
        "colab_type": "text"
      },
      "source": [
        "**Bias-Variance**\n",
        "\n",
        "Bias: the part of the error due to the wrong assumptions. Usually a high bias is the sign of underfitting. \n",
        "\n",
        "Variance: the model's sensitivity to variation of parameters, mainly caused by high degrees of freedom. Usually a high variance is a sign of overfitting. \n",
        "\n",
        "Increasing complexity reduces bias and generally increases variance. \n",
        "\n",
        "Decreasing complexity reduces variance and increases bias. \n",
        "\n",
        "ergo. Bias-variance tradeoff"
      ]
    },
    {
      "cell_type": "markdown",
      "metadata": {
        "id": "gGk-q-kb_7PF",
        "colab_type": "text"
      },
      "source": [
        "**Regularized Models**\n",
        "\n",
        "Further constraining the weights of the model helps to reduce the number of polynomial degrees. \n",
        "\n",
        "**Ridge Regression**: Adds a minimization term to the cost function to ensure that the $\\theta$ parameters are as small as possible. \n",
        "\n",
        "$J(\\theta) = MSE(\\theta) + \\frac{\\alpha}{2}\\sum_1^n \\theta_i^2$\n",
        "\n",
        "Where $\\alpha$ is another hyperparameter to control the amount of regularization (high = weights close to zero). When $\\alpha=0$, Ridge regression becomes linear regression. \n",
        "\n",
        "The closed form solution of the Ridge Regression equation is: \n",
        "\n",
        "$\\theta_{R} = (X^T X + \\alpha A)^{-1} X^Ty$ where $A$ is the (n+1) Identity matrix with a 0 in the [0,0] index."
      ]
    },
    {
      "cell_type": "code",
      "metadata": {
        "id": "uPGknKwzByB9",
        "colab_type": "code",
        "outputId": "34b52b1a-1a10-4476-aaa0-0fe27487f7e1",
        "colab": {
          "base_uri": "https://localhost:8080/",
          "height": 51
        }
      },
      "source": [
        "from sklearn.linear_model import Ridge\n",
        "from sklearn.linear_model import SGDRegressor\n",
        "ridge_reg = Ridge(alpha =1, solver =\"cholesky\")\n",
        "ridge_reg.fit(X_p, y_p)\n",
        "print(ridge_reg.predict([[1.5]]))\n",
        "\n",
        "sgd_reg = SGDRegressor(penalty = \"l2\")\n",
        "sgd_reg.fit(X_p, y_p.ravel())\n",
        "print(sgd_reg.predict([[1.5]]))"
      ],
      "execution_count": 0,
      "outputs": [
        {
          "output_type": "stream",
          "text": [
            "[[4.94162206]]\n",
            "[4.9336409]\n"
          ],
          "name": "stdout"
        }
      ]
    },
    {
      "cell_type": "markdown",
      "metadata": {
        "id": "mTIpz2RODG6F",
        "colab_type": "text"
      },
      "source": [
        "**Lasso Regression**: similar to ridge regression but it uses the l1 norm of the weight vector instead of half of the square of l2 (Ridge). \n",
        "\n",
        "$J(\\theta) = MSE(\\theta) + \\alpha \\sum_1^n |\\theta_i|$\n",
        "\n",
        "Lasso regression tends to set the weights of the less important features close to zero. \n"
      ]
    },
    {
      "cell_type": "code",
      "metadata": {
        "id": "o_DZ5NKfEEMz",
        "colab_type": "code",
        "outputId": "eb24b053-ddaa-4aa6-b149-dbf1fdced976",
        "colab": {
          "base_uri": "https://localhost:8080/",
          "height": 51
        }
      },
      "source": [
        "from sklearn.linear_model import Lasso\n",
        "lasso_reg = Lasso(alpha =0.1) \n",
        "lasso_reg.fit(X_p, y_p)\n",
        "print(lasso_reg.predict([[1.5]]))\n",
        "\n",
        "sgd_reg = SGDRegressor(penalty = \"l1\")\n",
        "sgd_reg.fit(X_p, y_p.ravel())\n",
        "print(sgd_reg.predict([[1.5]]))"
      ],
      "execution_count": 0,
      "outputs": [
        {
          "output_type": "stream",
          "text": [
            "[4.89578509]\n",
            "[4.91972975]\n"
          ],
          "name": "stdout"
        }
      ]
    },
    {
      "cell_type": "markdown",
      "metadata": {
        "id": "nxS4M9fAEVF1",
        "colab_type": "text"
      },
      "source": [
        "**Elastic Net** is a combination of Lasso and Ridge, with the hyperparameter r. \n",
        "\n",
        "$J(\\theta) = MSE(\\theta) + \\alpha r \\sum_1^n |\\theta_i| + \\alpha\\frac{1-r}{2} \\sum_1^n \\theta_i^2$\n",
        "\n",
        "Ridge regression is a good default. If there are some parameters that might be useless we might use Elastic net with a low r (l1_ratio)."
      ]
    },
    {
      "cell_type": "code",
      "metadata": {
        "id": "Sf683mjwGS0L",
        "colab_type": "code",
        "outputId": "d1f1cc4f-3854-4e33-b5bf-9c370a94f7d4",
        "colab": {
          "base_uri": "https://localhost:8080/",
          "height": 34
        }
      },
      "source": [
        "from sklearn.linear_model import ElasticNet\n",
        "en_reg = ElasticNet(alpha =0.1,l1_ratio=0.5) \n",
        "en_reg.fit(X_p, y_p)\n",
        "print(en_reg.predict([[1.5]]))\n"
      ],
      "execution_count": 0,
      "outputs": [
        {
          "output_type": "stream",
          "text": [
            "[4.89534019]\n"
          ],
          "name": "stdout"
        }
      ]
    },
    {
      "cell_type": "markdown",
      "metadata": {
        "id": "_XDoB8msJtps",
        "colab_type": "text"
      },
      "source": [
        "**Logistic Regression**\n",
        "\n",
        "Computes the weighted up of input features and feeds into the \"sigmoid function\" which outputs a number [0,1]\n",
        "\n",
        "$\\sigma(t) =  \\frac{1}{1 + e^{-t}}$\n",
        "\n",
        "The logistic estimation model:\n",
        "\n",
        "$\\hat{p} = h_\\theta(x) = \\sigma(x^T\\theta)$\n",
        "\n",
        "and the prediction is $\\hat y = 0$ if $\\hat{p} <0.5$ else $\\hat y = 1$\n",
        "\n",
        "Therefore, the Logistic Cost function is: \n",
        "\n",
        "$J(\\theta) = -\\frac{1}{m} \\sum_1^m [y^{(i)}log(\\hat p^{(i)}) + (1-y^{(i)})log(1-\\hat p^{(i)})] $\n",
        "\n",
        "And the partial derivative becomes: \n",
        "\n",
        "$\\frac{\\partial}{\\partial \\theta} J(\\theta) \\frac{1}{m} \\sum_1^m (\\sigma(\\theta^Tx^{(i)}) - y^{(i)})x^{(i)}$"
      ]
    },
    {
      "cell_type": "code",
      "metadata": {
        "id": "P200RMv-PHEv",
        "colab_type": "code",
        "colab": {
          "base_uri": "https://localhost:8080/",
          "height": 282
        },
        "outputId": "39dc0343-ec46-48bc-9b1d-c9f248fedd06"
      },
      "source": [
        "#training a model to recognize the flower from only the petal width\n",
        "\n",
        "from sklearn import datasets\n",
        "iris = datasets.load_iris()\n",
        "list(iris.keys())\n",
        "X_iris = iris[\"data\"][:,3:] #dataset column for petal width\n",
        "y_iris = (iris[\"target\"]==2).astype(np.int) # 2 is virginica in the dataset\n",
        "\n",
        "from sklearn.linear_model import LogisticRegression\n",
        "log_reg = LogisticRegression()\n",
        "log_reg.fit(X_iris,y_iris)\n",
        "\n",
        "X_narrow = np.linspace(0,3,1000).reshape(-1,1)\n",
        "y_prob = log_reg.predict_proba(X_narrow)\n",
        "\n",
        "plt.plot(X_narrow,y_prob[:,1],\"g-\")\n",
        "plt.plot(X_narrow,y_prob[:,0],\"r-\")\n",
        "plt.plot(X_iris,y_iris,'o')"
      ],
      "execution_count": 119,
      "outputs": [
        {
          "output_type": "execute_result",
          "data": {
            "text/plain": [
              "[<matplotlib.lines.Line2D at 0x7fe5683ea390>]"
            ]
          },
          "metadata": {
            "tags": []
          },
          "execution_count": 119
        },
        {
          "output_type": "display_data",
          "data": {
            "image/png": "[encoded data removed]",
            "text/plain": [
              "<Figure size 432x288 with 1 Axes>"
            ]
          },
          "metadata": {
            "tags": [],
            "needs_background": "light"
          }
        }
      ]
    },
    {
      "cell_type": "markdown",
      "metadata": {
        "id": "UTTBJa3qSrvq",
        "colab_type": "text"
      },
      "source": [
        "**Multinomial (Softmax) Regression**\n",
        "\n",
        "Linear regression can be generalized further to classify more than just 2 classes. \n",
        "\n",
        "for a given class *k* we can compute the softmax score: \n",
        "\n",
        "$s_k(x) = x^T\\theta^{(k)}$\n",
        "\n",
        "And the probabilty for the given score is calculated: \n",
        "\n",
        "$\\hat p_k =  \\sigma(s(x))_k = \\frac{e^{s_k(x)}}{\\sum_1^K e^{s_j(x)}}$\n",
        "\n",
        "Where: K is the total number of classes, s(x) is the vector containing all the scores for each class of x, and $\\hat p$ is the probability of those scores\n",
        "\n",
        "Predict the class with the highest score: \n",
        "$\\hat y =$ argmax $\\hat p_k = $ argmax $(\\theta^{(k)})^Tx$"
      ]
    },
    {
      "cell_type": "markdown",
      "metadata": {
        "id": "akoi0AeYUpeW",
        "colab_type": "text"
      },
      "source": [
        "**Cross Entropy** is used to measure how well a set of probabilities matches the target class. The associated cost function can be used for softmax regression because it penalizes low probabilities for the target class. \n",
        "\n",
        "$J(\\Theta) = -\\frac{1}{m} \\sum_1^m\\sum_1^K y_klog(\\hat p_k)$\n",
        "\n",
        "When K = 2, this is the same as the logistic regression cost function\n",
        "\n",
        "$\\nabla_\\theta J(\\theta) = \\frac{1}{m}\\sum_1^m(\\hat p_k - y_k)x$"
      ]
    },
    {
      "cell_type": "code",
      "metadata": {
        "id": "ePt35eTcVmPk",
        "colab_type": "code",
        "colab": {
          "base_uri": "https://localhost:8080/",
          "height": 34
        },
        "outputId": "966ca7b1-de58-42b8-8aba-8d0605c9861a"
      },
      "source": [
        "X = iris[\"data\"][:,(2,3)] #petal length and width\n",
        "y = iris[\"target\"]\n",
        "\n",
        "softmax_reg = LogisticRegression(multi_class=\"multinomial\", solver =\"lbfgs\",C=10)\n",
        "softmax_reg.fit(X,y)\n",
        "softmax_reg.predict([[5,2]])\n",
        "softmax_reg.predict_proba([[5,2]])"
      ],
      "execution_count": 125,
      "outputs": [
        {
          "output_type": "execute_result",
          "data": {
            "text/plain": [
              "array([[-14.26490421,  -2.85609209,  -0.05921261]])"
            ]
          },
          "metadata": {
            "tags": []
          },
          "execution_count": 125
        }
      ]
    }
  ]
}